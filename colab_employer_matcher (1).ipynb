{
  "cells": [
    {
      "cell_type": "code",
      "execution_count": null,
      "id": "22f68573",
      "metadata": {
        "id": "22f68573"
      },
      "outputs": [],
      "source": [
        "\n",
        "# 📊 Colab-Ready Employer Matching Script\n",
        "# Author: Will Draney\n",
        "# Purpose: Clean and match donor/employer names using fuzzy logic\n",
        "\n",
        "import pandas as pd\n",
        "from fuzzywuzzy import fuzz\n",
        "import re\n",
        "import string\n",
        "from google.colab import files\n",
        "import io\n",
        "\n",
        "# Upload CSV\n",
        "uploaded = files.upload()\n",
        "file_name = list(uploaded.keys())[0]\n",
        "df = pd.read_csv(io.BytesIO(uploaded[file_name]))\n",
        "\n",
        "# Cleaning function\n",
        "def clean_name(name):\n",
        "    if not isinstance(name, str):\n",
        "        return \"\"\n",
        "    name = name.lower()\n",
        "    name = name.translate(str.maketrans(\"\", \"\", string.punctuation))\n",
        "    suffixes = [' inc', ' corp', ' corporation', ' llc', ' ltd', ' limited',\n",
        "                ' company', ' co', ' incorporated', ' group', ' holdings']\n",
        "    for suffix in suffixes:\n",
        "        name = re.sub(suffix + r\"$\", \"\", name)\n",
        "        name = re.sub(suffix + r\" \", \" \", name)\n",
        "    return \" \".join(name.split())\n",
        "\n",
        "# Apply cleaning\n",
        "df['cleaned_employer'] = df['EMPLOYERorOCCUPATION'].apply(clean_name)\n",
        "df['cleaned_exec_employer'] = df['exec_employer'].apply(clean_name)\n",
        "\n",
        "# Apply fuzzy matching\n",
        "df['match_score'] = df.apply(\n",
        "    lambda row: fuzz.token_sort_ratio(row['cleaned_employer'], row['cleaned_exec_employer'])\n",
        "    if row['cleaned_employer'] and row['cleaned_exec_employer'] else 0,\n",
        "    axis=1\n",
        ")\n",
        "\n",
        "# Flag matches\n",
        "df['match_status'] = df['match_score'].apply(lambda x: 'Match' if x >= 90 else 'Needs Review')\n",
        "\n",
        "# Preview results\n",
        "df[['NAME', 'EMPLOYERorOCCUPATION', 'exec_fullname', 'exec_employer',\n",
        "    'match_score', 'match_status']].head(10)\n",
        "\n",
        "# Save output\n",
        "df.to_csv('matched_output.csv', index=False)\n",
        "print(\"✅ Matching complete. File saved as 'matched_output.csv'\")\n"
      ]
    }
  ],
  "metadata": {
    "colab": {
      "provenance": []
    }
  },
  "nbformat": 4,
  "nbformat_minor": 5
}